{
    "cells": [
        {
            "cell_type": "markdown",
            "metadata": {
                "collapsed": true
            },
            "source": "\nimport types\nimport pandas as pd\nfrom botocore.client import Config\nimport ibm_boto3\n\ndef __iter__(self): return 0\n\n# @hidden_cell\n# The following code accesses a file in your IBM Cloud Object Storage. It includes your credentials.\n# You might want to remove those credentials before you share the notebook.\nclient_ef91b20b505b47a7b0b20fd1d820c632 = ibm_boto3.client(service_name='s3',\n    ibm_api_key_id='NsckvqPjxJK6Cj66AOPZd_wdX8HYY0Qzww0VPMtgcOfS',\n    ibm_auth_endpoint=\"https://iam.cloud.ibm.com/oidc/token\",\n    config=Config(signature_version='oauth'),\n    endpoint_url='https://s3-api.us-geo.objectstorage.service.networklayer.com')\n\nbody = client_ef91b20b505b47a7b0b20fd1d820c632.get_object(Bucket='couseracapstone-donotdelete-pr-6wtglcgpmdunki',Key='Data-Collisions.csv')['Body']\n# add missing __iter__ method, so pandas accepts body as file-like object\nif not hasattr(body, \"__iter__\"): body.__iter__ = types.MethodType( __iter__, body )\n\ndf_data_1 = pd.read_csv(body)\ndf_data_1.head()\n# This notebook is going to be used mainly for the cousera applied science capstone assignment"
        },
        {
            "cell_type": "code",
            "execution_count": 2,
            "metadata": {},
            "outputs": [],
            "source": "import pandas as pd"
        },
        {
            "cell_type": "code",
            "execution_count": 3,
            "metadata": {},
            "outputs": [],
            "source": "import numpy as np"
        },
        {
            "cell_type": "code",
            "execution_count": 4,
            "metadata": {},
            "outputs": [
                {
                    "name": "stdout",
                    "output_type": "stream",
                    "text": "Hello Capstone Project Course!\n"
                }
            ],
            "source": "print (\"Hello Capstone Project Course!\")"
        },
        {
            "cell_type": "code",
            "execution_count": 6,
            "metadata": {},
            "outputs": [
                {
                    "name": "stdout",
                    "output_type": "stream",
                    "text": "pandas installed\n"
                }
            ],
            "source": "#import pandas\ntry :\n    \n    import pandas as pd\n    print(\"pandas installed\")\nexcept:\n    pass"
        },
        {
            "cell_type": "markdown",
            "metadata": {},
            "source": " car_acc_df = pd.read_csv('https://s3.us.cloud-object-storage.appdomain.cloud/cf-courses-data/CognitiveClass/DP0701EN/version-2/Data-Collisions.csv',\n encoding = \"utf-8\",low_memory=False)\n car_acc_df.head() "
        },
        {
            "cell_type": "code",
            "execution_count": 8,
            "metadata": {},
            "outputs": [
                {
                    "data": {
                        "text/plain": "array([2, 1])"
                    },
                    "execution_count": 8,
                    "metadata": {},
                    "output_type": "execute_result"
                }
            ],
            "source": " car_acc_df.SEVERITYCODE.unique()"
        },
        {
            "cell_type": "markdown",
            "metadata": {},
            "source": "2.2 Data Understanding\n\nShape of the Data"
        },
        {
            "cell_type": "code",
            "execution_count": 11,
            "metadata": {},
            "outputs": [
                {
                    "name": "stdout",
                    "output_type": "stream",
                    "text": "Rows:  194673\nColumns:  38\n"
                }
            ],
            "source": " print(\"Rows: \",car_acc_df.shape[0])\n print(\"Columns: \",car_acc_df.shape[1])"
        },
        {
            "cell_type": "markdown",
            "metadata": {},
            "source": "Data Basic Information"
        },
        {
            "cell_type": "code",
            "execution_count": 12,
            "metadata": {},
            "outputs": [
                {
                    "data": {
                        "text/plain": "<bound method DataFrame.info of         SEVERITYCODE           X          Y  OBJECTID  INCKEY  COLDETKEY  \\\n0                  2 -122.323148  47.703140         1    1307       1307   \n1                  1 -122.347294  47.647172         2   52200      52200   \n2                  1 -122.334540  47.607871         3   26700      26700   \n3                  1 -122.334803  47.604803         4    1144       1144   \n4                  2 -122.306426  47.545739         5   17700      17700   \n5                  1 -122.387598  47.690575         6  320840     322340   \n6                  1 -122.338485  47.618534         7   83300      83300   \n7                  2 -122.320780  47.614076         9  330897     332397   \n8                  1 -122.335930  47.611904        10   63400      63400   \n9                  2 -122.384700  47.528475        12   58600      58600   \n10                 1         NaN        NaN        14   48900      48900   \n11                 1 -122.333831  47.547371        15   38800      38800   \n12                 1 -122.356273  47.571375        16    2771       2771   \n13                 1 -122.323966  47.606374        17   32800      32800   \n14                 2 -122.317414  47.664028        19    1212       1212   \n15                 1 -122.337663  47.617510        20  330878     332378   \n16                 2 -122.344539  47.692012        21   46300      46300   \n17                 1         NaN        NaN        23   23000      23000   \n18                 2 -122.328270  47.571420        24  330833     332333   \n19                 1 -122.383802  47.583715        25   97100      97100   \n20                 2 -122.292403  47.732847        26    1347       1347   \n21                 2 -122.313786  47.708535        28    1323       1323   \n22                 1 -122.318169  47.615837        29   80000      80000   \n23                 1 -122.337486  47.589746        31   28700      28700   \n24                 2 -122.279658  47.553405        33    1268       1268   \n25                 2 -122.312857  47.599218        34  320932     322432   \n26                 1 -122.330730  47.615450        35  113300     113300   \n27                 1 -122.385859  47.581191        36   64700      64700   \n28                 1 -122.304990  47.611474        37    1083       1083   \n29                 1         NaN        NaN        38   61500      61500   \n...              ...         ...        ...       ...     ...        ...   \n194643             1 -122.345863  47.612991    219510  307577     308857   \n194644             1 -122.330298  47.603233    219511  312117     313537   \n194645             2 -122.328079  47.604161    219512  307692     308972   \n194646             1 -122.320756  47.608656    219513  312289     313709   \n194647             2 -122.355449  47.704720    219514  308575     309855   \n194648             1 -122.357624  47.635956    219515  307792     309072   \n194649             2 -122.302382  47.626759    219516  307985     309265   \n194650             2 -122.355298  47.684382    219517  310417     311717   \n194651             1 -122.320780  47.614076    219519  309594     310874   \n194652             1 -122.335527  47.617434    219520  308698     309978   \n194653             2 -122.322097  47.649615    219521  308342     309622   \n194654             1 -122.312679  47.719414    219522  311117     312437   \n194655             2 -122.380016  47.664879    219523  310911     312231   \n194656             2 -122.340474  47.614496    219524  312179     313599   \n194657             1 -122.337137  47.610709    219525  307834     309114   \n194658             1 -122.302554  47.584099    219528  311697     313057   \n194659             1 -122.298955  47.717456    219529  308019     309299   \n194660             2         NaN        NaN    219531  308990     310270   \n194661             2 -122.306092  47.617881    219532  308532     309812   \n194662             1 -122.337880  47.625793    219535  307802     309082   \n194663             2 -122.299160  47.579673    219536  309335     310615   \n194664             1 -122.325887  47.643191    219537  309222     310502   \n194665             1 -122.304217  47.669537    219538  308480     309760   \n194666             2 -122.344569  47.694547    219539  309170     310450   \n194667             1 -122.361672  47.556722    219541  307804     309084   \n194668             2 -122.290826  47.565408    219543  309534     310814   \n194669             1 -122.344526  47.690924    219544  309085     310365   \n194670             2 -122.306689  47.683047    219545  311280     312640   \n194671             2 -122.355317  47.678734    219546  309514     310794   \n194672             1 -122.289360  47.611017    219547  308220     309500   \n\n       REPORTNO     STATUS      ADDRTYPE   INTKEY  ... ROADCOND  \\\n0       3502005    Matched  Intersection  37475.0  ...      Wet   \n1       2607959    Matched         Block      NaN  ...      Wet   \n2       1482393    Matched         Block      NaN  ...      Dry   \n3       3503937    Matched         Block      NaN  ...      Dry   \n4       1807429    Matched  Intersection  34387.0  ...      Wet   \n5       E919477    Matched  Intersection  36974.0  ...      Dry   \n6       3282542    Matched  Intersection  29510.0  ...      Wet   \n7       EA30304    Matched  Intersection  29745.0  ...      Dry   \n8       2071243    Matched         Block      NaN  ...      Dry   \n9       2072105    Matched  Intersection  34679.0  ...      Dry   \n10      2024040    Matched         Alley      NaN  ...      Dry   \n11      C654800    Matched  Intersection  33194.0  ...      Dry   \n12      1211870  Unmatched         Block      NaN  ...      Wet   \n13      2128498    Matched         Block      NaN  ...      Wet   \n14      3507861    Matched         Block      NaN  ...      Dry   \n15      3838086  Unmatched         Block      NaN  ...      NaN   \n16      2023080    Matched  Intersection  37365.0  ...      Dry   \n17       537838    Matched         Block      NaN  ...      Dry   \n18      EA29752    Matched         Block      NaN  ...      Dry   \n19      2894590    Matched         Block      NaN  ...      Dry   \n20      3608880    Matched         Block      NaN  ...      Dry   \n21      3502831    Matched  Intersection  36505.0  ...      Dry   \n22      2882620    Matched         Block      NaN  ...      Dry   \n23      1213894    Matched         Block      NaN  ...  Unknown   \n24      3672152    Matched  Intersection  33499.0  ...      Dry   \n25      E926429    Matched         Block      NaN  ...      Dry   \n26      3346338    Matched  Intersection  29865.0  ...      Wet   \n27      2798260    Matched         Block      NaN  ...      Dry   \n28      3605909    Matched         Block      NaN  ...      Dry   \n29      2607270    Matched         Block      NaN  ...      Dry   \n...         ...        ...           ...      ...  ...      ...   \n194643  3811871    Matched         Block      NaN  ...      Dry   \n194644  E885893    Matched  Intersection  30479.0  ...      Dry   \n194645  E851047    Matched  Intersection  29973.0  ...      Dry   \n194646  E872044  Unmatched         Block      NaN  ...      NaN   \n194647  E872078    Matched         Block      NaN  ...      Wet   \n194648  3578593    Matched         Block      NaN  ...      Wet   \n194649  E869075    Matched  Intersection  29328.0  ...      Dry   \n194650  3751221    Matched         Block      NaN  ...      Dry   \n194651  E881227    Matched  Intersection  29745.0  ...      Wet   \n194652  3812450    Matched         Block      NaN  ...      Wet   \n194653  3693206    Matched         Block      NaN  ...      Wet   \n194654  E881587  Unmatched  Intersection  36427.0  ...      NaN   \n194655  3751425  Unmatched  Intersection  25174.0  ...      NaN   \n194656  E885580    Matched  Intersection  29545.0  ...      Dry   \n194657  3811279    Matched         Block      NaN  ...      Wet   \n194658  E886941    Matched         Block      NaN  ...      Wet   \n194659  3767486    Matched         Block      NaN  ...      Wet   \n194660  3811749    Matched         Block      NaN  ...      Wet   \n194661  3814599    Matched         Block      NaN  ...      Dry   \n194662  E869008    Matched         Block      NaN  ...      Dry   \n194663  E880807    Matched         Block      NaN  ...      Wet   \n194664  E879537    Matched  Intersection  28300.0  ...      Dry   \n194665  3642620    Matched  Intersection  26005.0  ...      Dry   \n194666  E879712    Matched         Block      NaN  ...      Wet   \n194667  3745813    Matched         Block      NaN  ...      Wet   \n194668  E871089    Matched         Block      NaN  ...      Dry   \n194669  E876731    Matched         Block      NaN  ...      Wet   \n194670  3809984    Matched  Intersection  24760.0  ...      Dry   \n194671  3810083    Matched  Intersection  24349.0  ...      Dry   \n194672  E868008    Matched         Block      NaN  ...      Wet   \n\n                      LIGHTCOND PEDROWNOTGRNT  SDOTCOLNUM SPEEDING ST_COLCODE  \\\n0                      Daylight           NaN         NaN      NaN         10   \n1       Dark - Street Lights On           NaN   6354039.0      NaN         11   \n2                      Daylight           NaN   4323031.0      NaN         32   \n3                      Daylight           NaN         NaN      NaN         23   \n4                      Daylight           NaN   4028032.0      NaN         10   \n5                      Daylight           NaN         NaN      NaN         10   \n6                      Daylight           NaN   8344002.0      NaN         10   \n7                      Daylight           NaN         NaN      NaN          5   \n8                      Daylight           NaN   6166014.0      NaN         32   \n9                      Daylight           NaN   6079001.0      NaN         10   \n10                     Daylight           NaN   6145029.0      NaN         22   \n11                     Daylight           NaN   5223041.0      NaN         10   \n12      Dark - Street Lights On           NaN   3137016.0      NaN         14   \n13      Dark - No Street Lights           NaN   5356027.0      NaN         32   \n14      Dark - Street Lights On           NaN         NaN      NaN         30   \n15                          NaN           NaN         NaN      NaN              \n16                     Daylight           NaN   5182022.0      NaN         28   \n17                     Daylight           NaN   4016025.0      NaN         14   \n18                     Daylight           NaN         NaN      NaN         14   \n19                      Unknown           NaN   9152035.0      NaN         32   \n20      Dark - Street Lights On           NaN         NaN      NaN         14   \n21                     Daylight           NaN         NaN      NaN         10   \n22      Dark - Street Lights On           NaN   8200013.0      NaN         32   \n23                      Unknown           NaN   4256026.0      NaN         51   \n24                     Daylight           NaN         NaN        Y         14   \n25                     Daylight           NaN         NaN      NaN          5   \n26                      Unknown           NaN  10317016.0      NaN         28   \n27                     Daylight           NaN   7204015.0      NaN         10   \n28                     Daylight           NaN         NaN      NaN         23   \n29                     Daylight           NaN   6320040.0      NaN         32   \n...                         ...           ...         ...      ...        ...   \n194643  Dark - Street Lights On           NaN         NaN      NaN         20   \n194644                     Dusk           NaN         NaN      NaN         10   \n194645  Dark - Street Lights On           NaN         NaN      NaN         16   \n194646                      NaN           NaN         NaN      NaN              \n194647                     Dusk           NaN         NaN      NaN          0   \n194648  Dark - Street Lights On           NaN         NaN      NaN         10   \n194649  Dark - Street Lights On           NaN         NaN      NaN         28   \n194650                 Daylight           NaN         NaN      NaN         32   \n194651  Dark - Street Lights On           NaN         NaN      NaN          0   \n194652                     Dusk           NaN         NaN      NaN         32   \n194653  Dark - Street Lights On           NaN         NaN      NaN         32   \n194654                      NaN           NaN         NaN      NaN              \n194655                      NaN           NaN         NaN      NaN              \n194656                 Daylight           NaN         NaN      NaN          2   \n194657  Dark - Street Lights On           NaN         NaN      NaN         11   \n194658  Dark - Street Lights On           NaN         NaN      NaN         14   \n194659  Dark - Street Lights On           NaN         NaN      NaN         32   \n194660                    Other           NaN         NaN      NaN         52   \n194661                 Daylight           NaN         NaN      NaN         29   \n194662                     Dusk           NaN         NaN      NaN         32   \n194663                 Daylight           NaN         NaN      NaN         10   \n194664                 Daylight           NaN         NaN      NaN         10   \n194665                 Daylight           NaN         NaN      NaN         10   \n194666                 Daylight           NaN         NaN      NaN         10   \n194667  Dark - Street Lights On           NaN         NaN      NaN         50   \n194668                 Daylight           NaN         NaN      NaN         24   \n194669                 Daylight           NaN         NaN      NaN         13   \n194670                 Daylight           NaN         NaN      NaN         28   \n194671                     Dusk           NaN         NaN      NaN          5   \n194672                 Daylight           NaN         NaN      NaN         14   \n\n                                               ST_COLDESC  SEGLANEKEY  \\\n0                                       Entering at angle           0   \n1       From same direction - both going straight - bo...           0   \n2                                  One parked--one moving           0   \n3                        From same direction - all others           0   \n4                                       Entering at angle           0   \n5                                       Entering at angle           0   \n6                                       Entering at angle           0   \n7                            Vehicle Strikes Pedalcyclist        6855   \n8                                  One parked--one moving           0   \n9                                       Entering at angle           0   \n10                        One car leaving driveway access           0   \n11                                      Entering at angle           0   \n12      From same direction - both going straight - on...           0   \n13                                 One parked--one moving           0   \n14                   From opposite direction - all others           0   \n15                                                    NaN           0   \n16      From opposite direction - one left turn - one ...           0   \n17      From same direction - both going straight - on...           0   \n18      From same direction - both going straight - on...           0   \n19                                 One parked--one moving           0   \n20      From same direction - both going straight - on...           0   \n21                                      Entering at angle           0   \n22                                 One parked--one moving           0   \n23                                           Other object           0   \n24      From same direction - both going straight - on...           0   \n25                           Vehicle Strikes Pedalcyclist           0   \n26      From opposite direction - one left turn - one ...           0   \n27                                      Entering at angle           0   \n28                       From same direction - all others           0   \n29                                 One parked--one moving           0   \n...                                                   ...         ...   \n194643                    One car leaving parked position           0   \n194644                                  Entering at angle           0   \n194645  From same direction - one right turn - one str...           0   \n194646                                                NaN           0   \n194647             Vehicle going straight hits pedestrian           0   \n194648                                  Entering at angle           0   \n194649  From opposite direction - one left turn - one ...           0   \n194650                             One parked--one moving           0   \n194651             Vehicle going straight hits pedestrian           0   \n194652                             One parked--one moving           0   \n194653                             One parked--one moving           0   \n194654                                                NaN           0   \n194655                                                NaN           0   \n194656               Vehicle turning left hits pedestrian           0   \n194657  From same direction - both going straight - bo...           0   \n194658  From same direction - both going straight - on...           0   \n194659                             One parked--one moving           0   \n194660                                 Vehicle overturned           0   \n194661  From opposite direction - one left turn - one ...           0   \n194662                             One parked--one moving           0   \n194663                                  Entering at angle           0   \n194664                                  Entering at angle           0   \n194665                                  Entering at angle           0   \n194666                                  Entering at angle           0   \n194667                                       Fixed object           0   \n194668    From opposite direction - both moving - head-on           0   \n194669  From same direction - both going straight - bo...           0   \n194670  From opposite direction - one left turn - one ...           0   \n194671                       Vehicle Strikes Pedalcyclist        4308   \n194672  From same direction - both going straight - on...           0   \n\n        CROSSWALKKEY  HITPARKEDCAR  \n0                  0             N  \n1                  0             N  \n2                  0             N  \n3                  0             N  \n4                  0             N  \n5                  0             N  \n6                  0             N  \n7                  0             N  \n8                  0             N  \n9                  0             N  \n10                 0             N  \n11                 0             N  \n12                 0             N  \n13                 0             N  \n14                 0             N  \n15                 0             N  \n16                 0             N  \n17                 0             N  \n18                 0             N  \n19                 0             N  \n20                 0             N  \n21                 0             N  \n22                 0             N  \n23                 0             N  \n24                 0             N  \n25                 0             N  \n26                 0             N  \n27                 0             N  \n28                 0             N  \n29                 0             N  \n...              ...           ...  \n194643             0             N  \n194644             0             N  \n194645             0             N  \n194646             0             N  \n194647             0             N  \n194648             0             N  \n194649             0             N  \n194650             0             Y  \n194651        522257             N  \n194652             0             Y  \n194653             0             Y  \n194654             0             N  \n194655        650595             N  \n194656        523322             N  \n194657             0             N  \n194658             0             N  \n194659             0             Y  \n194660             0             N  \n194661             0             N  \n194662             0             Y  \n194663             0             N  \n194664             0             N  \n194665             0             N  \n194666             0             N  \n194667             0             N  \n194668             0             N  \n194669             0             N  \n194670             0             N  \n194671             0             N  \n194672             0             N  \n\n[194673 rows x 38 columns]>"
                    },
                    "execution_count": 12,
                    "metadata": {},
                    "output_type": "execute_result"
                }
            ],
            "source": "car_acc_df.info"
        },
        {
            "cell_type": "markdown",
            "metadata": {},
            "source": "Data Statistics Description"
        },
        {
            "cell_type": "code",
            "execution_count": 13,
            "metadata": {},
            "outputs": [
                {
                    "data": {
                        "text/html": "<div>\n<style scoped>\n    .dataframe tbody tr th:only-of-type {\n        vertical-align: middle;\n    }\n\n    .dataframe tbody tr th {\n        vertical-align: top;\n    }\n\n    .dataframe thead th {\n        text-align: right;\n    }\n</style>\n<table border=\"1\" class=\"dataframe\">\n  <thead>\n    <tr style=\"text-align: right;\">\n      <th></th>\n      <th>SEVERITYCODE</th>\n      <th>X</th>\n      <th>Y</th>\n      <th>OBJECTID</th>\n      <th>INCKEY</th>\n      <th>COLDETKEY</th>\n      <th>REPORTNO</th>\n      <th>STATUS</th>\n      <th>ADDRTYPE</th>\n      <th>INTKEY</th>\n      <th>...</th>\n      <th>ROADCOND</th>\n      <th>LIGHTCOND</th>\n      <th>PEDROWNOTGRNT</th>\n      <th>SDOTCOLNUM</th>\n      <th>SPEEDING</th>\n      <th>ST_COLCODE</th>\n      <th>ST_COLDESC</th>\n      <th>SEGLANEKEY</th>\n      <th>CROSSWALKKEY</th>\n      <th>HITPARKEDCAR</th>\n    </tr>\n  </thead>\n  <tbody>\n    <tr>\n      <th>count</th>\n      <td>194673.000000</td>\n      <td>189339.000000</td>\n      <td>189339.000000</td>\n      <td>194673.000000</td>\n      <td>194673.000000</td>\n      <td>194673.000000</td>\n      <td>194673</td>\n      <td>194673</td>\n      <td>192747</td>\n      <td>65070.000000</td>\n      <td>...</td>\n      <td>189661</td>\n      <td>189503</td>\n      <td>4667</td>\n      <td>1.149360e+05</td>\n      <td>9333</td>\n      <td>194655</td>\n      <td>189769</td>\n      <td>194673.000000</td>\n      <td>1.946730e+05</td>\n      <td>194673</td>\n    </tr>\n    <tr>\n      <th>unique</th>\n      <td>NaN</td>\n      <td>NaN</td>\n      <td>NaN</td>\n      <td>NaN</td>\n      <td>NaN</td>\n      <td>NaN</td>\n      <td>194670</td>\n      <td>2</td>\n      <td>3</td>\n      <td>NaN</td>\n      <td>...</td>\n      <td>9</td>\n      <td>9</td>\n      <td>1</td>\n      <td>NaN</td>\n      <td>1</td>\n      <td>63</td>\n      <td>62</td>\n      <td>NaN</td>\n      <td>NaN</td>\n      <td>2</td>\n    </tr>\n    <tr>\n      <th>top</th>\n      <td>NaN</td>\n      <td>NaN</td>\n      <td>NaN</td>\n      <td>NaN</td>\n      <td>NaN</td>\n      <td>NaN</td>\n      <td>1780512</td>\n      <td>Matched</td>\n      <td>Block</td>\n      <td>NaN</td>\n      <td>...</td>\n      <td>Dry</td>\n      <td>Daylight</td>\n      <td>Y</td>\n      <td>NaN</td>\n      <td>Y</td>\n      <td>32</td>\n      <td>One parked--one moving</td>\n      <td>NaN</td>\n      <td>NaN</td>\n      <td>N</td>\n    </tr>\n    <tr>\n      <th>freq</th>\n      <td>NaN</td>\n      <td>NaN</td>\n      <td>NaN</td>\n      <td>NaN</td>\n      <td>NaN</td>\n      <td>NaN</td>\n      <td>2</td>\n      <td>189786</td>\n      <td>126926</td>\n      <td>NaN</td>\n      <td>...</td>\n      <td>124510</td>\n      <td>116137</td>\n      <td>4667</td>\n      <td>NaN</td>\n      <td>9333</td>\n      <td>44421</td>\n      <td>44421</td>\n      <td>NaN</td>\n      <td>NaN</td>\n      <td>187457</td>\n    </tr>\n    <tr>\n      <th>mean</th>\n      <td>1.298901</td>\n      <td>-122.330518</td>\n      <td>47.619543</td>\n      <td>108479.364930</td>\n      <td>141091.456350</td>\n      <td>141298.811381</td>\n      <td>NaN</td>\n      <td>NaN</td>\n      <td>NaN</td>\n      <td>37558.450576</td>\n      <td>...</td>\n      <td>NaN</td>\n      <td>NaN</td>\n      <td>NaN</td>\n      <td>7.972521e+06</td>\n      <td>NaN</td>\n      <td>NaN</td>\n      <td>NaN</td>\n      <td>269.401114</td>\n      <td>9.782452e+03</td>\n      <td>NaN</td>\n    </tr>\n    <tr>\n      <th>std</th>\n      <td>0.457778</td>\n      <td>0.029976</td>\n      <td>0.056157</td>\n      <td>62649.722558</td>\n      <td>86634.402737</td>\n      <td>86986.542110</td>\n      <td>NaN</td>\n      <td>NaN</td>\n      <td>NaN</td>\n      <td>51745.990273</td>\n      <td>...</td>\n      <td>NaN</td>\n      <td>NaN</td>\n      <td>NaN</td>\n      <td>2.553533e+06</td>\n      <td>NaN</td>\n      <td>NaN</td>\n      <td>NaN</td>\n      <td>3315.776055</td>\n      <td>7.226926e+04</td>\n      <td>NaN</td>\n    </tr>\n    <tr>\n      <th>min</th>\n      <td>1.000000</td>\n      <td>-122.419091</td>\n      <td>47.495573</td>\n      <td>1.000000</td>\n      <td>1001.000000</td>\n      <td>1001.000000</td>\n      <td>NaN</td>\n      <td>NaN</td>\n      <td>NaN</td>\n      <td>23807.000000</td>\n      <td>...</td>\n      <td>NaN</td>\n      <td>NaN</td>\n      <td>NaN</td>\n      <td>1.007024e+06</td>\n      <td>NaN</td>\n      <td>NaN</td>\n      <td>NaN</td>\n      <td>0.000000</td>\n      <td>0.000000e+00</td>\n      <td>NaN</td>\n    </tr>\n    <tr>\n      <th>25%</th>\n      <td>1.000000</td>\n      <td>-122.348673</td>\n      <td>47.575956</td>\n      <td>54267.000000</td>\n      <td>70383.000000</td>\n      <td>70383.000000</td>\n      <td>NaN</td>\n      <td>NaN</td>\n      <td>NaN</td>\n      <td>28667.000000</td>\n      <td>...</td>\n      <td>NaN</td>\n      <td>NaN</td>\n      <td>NaN</td>\n      <td>6.040015e+06</td>\n      <td>NaN</td>\n      <td>NaN</td>\n      <td>NaN</td>\n      <td>0.000000</td>\n      <td>0.000000e+00</td>\n      <td>NaN</td>\n    </tr>\n    <tr>\n      <th>50%</th>\n      <td>1.000000</td>\n      <td>-122.330224</td>\n      <td>47.615369</td>\n      <td>106912.000000</td>\n      <td>123363.000000</td>\n      <td>123363.000000</td>\n      <td>NaN</td>\n      <td>NaN</td>\n      <td>NaN</td>\n      <td>29973.000000</td>\n      <td>...</td>\n      <td>NaN</td>\n      <td>NaN</td>\n      <td>NaN</td>\n      <td>8.023022e+06</td>\n      <td>NaN</td>\n      <td>NaN</td>\n      <td>NaN</td>\n      <td>0.000000</td>\n      <td>0.000000e+00</td>\n      <td>NaN</td>\n    </tr>\n    <tr>\n      <th>75%</th>\n      <td>2.000000</td>\n      <td>-122.311937</td>\n      <td>47.663664</td>\n      <td>162272.000000</td>\n      <td>203319.000000</td>\n      <td>203459.000000</td>\n      <td>NaN</td>\n      <td>NaN</td>\n      <td>NaN</td>\n      <td>33973.000000</td>\n      <td>...</td>\n      <td>NaN</td>\n      <td>NaN</td>\n      <td>NaN</td>\n      <td>1.015501e+07</td>\n      <td>NaN</td>\n      <td>NaN</td>\n      <td>NaN</td>\n      <td>0.000000</td>\n      <td>0.000000e+00</td>\n      <td>NaN</td>\n    </tr>\n    <tr>\n      <th>max</th>\n      <td>2.000000</td>\n      <td>-122.238949</td>\n      <td>47.734142</td>\n      <td>219547.000000</td>\n      <td>331454.000000</td>\n      <td>332954.000000</td>\n      <td>NaN</td>\n      <td>NaN</td>\n      <td>NaN</td>\n      <td>757580.000000</td>\n      <td>...</td>\n      <td>NaN</td>\n      <td>NaN</td>\n      <td>NaN</td>\n      <td>1.307202e+07</td>\n      <td>NaN</td>\n      <td>NaN</td>\n      <td>NaN</td>\n      <td>525241.000000</td>\n      <td>5.239700e+06</td>\n      <td>NaN</td>\n    </tr>\n  </tbody>\n</table>\n<p>11 rows \u00d7 38 columns</p>\n</div>",
                        "text/plain": "         SEVERITYCODE              X              Y       OBJECTID  \\\ncount   194673.000000  189339.000000  189339.000000  194673.000000   \nunique            NaN            NaN            NaN            NaN   \ntop               NaN            NaN            NaN            NaN   \nfreq              NaN            NaN            NaN            NaN   \nmean         1.298901    -122.330518      47.619543  108479.364930   \nstd          0.457778       0.029976       0.056157   62649.722558   \nmin          1.000000    -122.419091      47.495573       1.000000   \n25%          1.000000    -122.348673      47.575956   54267.000000   \n50%          1.000000    -122.330224      47.615369  106912.000000   \n75%          2.000000    -122.311937      47.663664  162272.000000   \nmax          2.000000    -122.238949      47.734142  219547.000000   \n\n               INCKEY      COLDETKEY REPORTNO   STATUS ADDRTYPE  \\\ncount   194673.000000  194673.000000   194673   194673   192747   \nunique            NaN            NaN   194670        2        3   \ntop               NaN            NaN  1780512  Matched    Block   \nfreq              NaN            NaN        2   189786   126926   \nmean    141091.456350  141298.811381      NaN      NaN      NaN   \nstd      86634.402737   86986.542110      NaN      NaN      NaN   \nmin       1001.000000    1001.000000      NaN      NaN      NaN   \n25%      70383.000000   70383.000000      NaN      NaN      NaN   \n50%     123363.000000  123363.000000      NaN      NaN      NaN   \n75%     203319.000000  203459.000000      NaN      NaN      NaN   \nmax     331454.000000  332954.000000      NaN      NaN      NaN   \n\n               INTKEY  ... ROADCOND LIGHTCOND PEDROWNOTGRNT    SDOTCOLNUM  \\\ncount    65070.000000  ...   189661    189503          4667  1.149360e+05   \nunique            NaN  ...        9         9             1           NaN   \ntop               NaN  ...      Dry  Daylight             Y           NaN   \nfreq              NaN  ...   124510    116137          4667           NaN   \nmean     37558.450576  ...      NaN       NaN           NaN  7.972521e+06   \nstd      51745.990273  ...      NaN       NaN           NaN  2.553533e+06   \nmin      23807.000000  ...      NaN       NaN           NaN  1.007024e+06   \n25%      28667.000000  ...      NaN       NaN           NaN  6.040015e+06   \n50%      29973.000000  ...      NaN       NaN           NaN  8.023022e+06   \n75%      33973.000000  ...      NaN       NaN           NaN  1.015501e+07   \nmax     757580.000000  ...      NaN       NaN           NaN  1.307202e+07   \n\n       SPEEDING ST_COLCODE              ST_COLDESC     SEGLANEKEY  \\\ncount      9333     194655                  189769  194673.000000   \nunique        1         63                      62            NaN   \ntop           Y         32  One parked--one moving            NaN   \nfreq       9333      44421                   44421            NaN   \nmean        NaN        NaN                     NaN     269.401114   \nstd         NaN        NaN                     NaN    3315.776055   \nmin         NaN        NaN                     NaN       0.000000   \n25%         NaN        NaN                     NaN       0.000000   \n50%         NaN        NaN                     NaN       0.000000   \n75%         NaN        NaN                     NaN       0.000000   \nmax         NaN        NaN                     NaN  525241.000000   \n\n        CROSSWALKKEY  HITPARKEDCAR  \ncount   1.946730e+05        194673  \nunique           NaN             2  \ntop              NaN             N  \nfreq             NaN        187457  \nmean    9.782452e+03           NaN  \nstd     7.226926e+04           NaN  \nmin     0.000000e+00           NaN  \n25%     0.000000e+00           NaN  \n50%     0.000000e+00           NaN  \n75%     0.000000e+00           NaN  \nmax     5.239700e+06           NaN  \n\n[11 rows x 38 columns]"
                    },
                    "execution_count": 13,
                    "metadata": {},
                    "output_type": "execute_result"
                }
            ],
            "source": " car_acc_df.describe(include= \"all\")"
        },
        {
            "cell_type": "markdown",
            "metadata": {},
            "source": "2.3 Parameter Selection\n\nFrom the given problem and the data exploration, we take 'SEVERITY' as the target (dependent) variable, and take the underlisted parameters as the independent variables;\n\nVariables Description X Coordinates Y Coordinates\n\nWEATHER- The actual weather condition at the ime of collision. SPEEDING- Whether speed was a factor innthe collisoin (Y/N). LIGHTCOND- The light condition at the time of collision. ROADCOND- The road condition at the time of collision. JUNCTION TYPE- The category of junction, at which the collision happened. PERSONCOUNT- The total number of people involved in the collision. VEHCOUNT- The number of vehicles involved in the collision\n\nAt the end of the notebook, X and Y are for a clustering model.\n\nData Preparation"
        },
        {
            "cell_type": "code",
            "execution_count": null,
            "metadata": {},
            "outputs": [],
            "source": "# columns with NAN using True/False\n# false means it does not a have a null\ndf.isnull().any()"
        },
        {
            "cell_type": "code",
            "execution_count": null,
            "metadata": {},
            "outputs": [],
            "source": "df.isnull().sum()"
        },
        {
            "cell_type": "code",
            "execution_count": null,
            "metadata": {},
            "outputs": [],
            "source": "df.head()"
        },
        {
            "cell_type": "code",
            "execution_count": null,
            "metadata": {},
            "outputs": [],
            "source": "# fill it with mean\ndf['WEATHER'].mean()"
        },
        {
            "cell_type": "code",
            "execution_count": null,
            "metadata": {},
            "outputs": [],
            "source": "df.isnull().sum().sum()"
        },
        {
            "cell_type": "code",
            "execution_count": null,
            "metadata": {},
            "outputs": [],
            "source": "df.shape"
        },
        {
            "cell_type": "code",
            "execution_count": null,
            "metadata": {},
            "outputs": [],
            "source": "df.values"
        },
        {
            "cell_type": "markdown",
            "metadata": {},
            "source": "3.Modelling\n\nIn this section, we are going to use a predictive model. Our aim is to predict car accident sevrity and where it will happen."
        },
        {
            "cell_type": "code",
            "execution_count": 37,
            "metadata": {},
            "outputs": [],
            "source": "import pandas as pd\nimport pylab as pl\nimport numpy as np\nimport scipy.optimize as opt\nfrom sklearn import preprocessing\n%matplotlib inline \nimport matplotlib.pyplot as plt"
        },
        {
            "cell_type": "code",
            "execution_count": 38,
            "metadata": {},
            "outputs": [
                {
                    "name": "stdout",
                    "output_type": "stream",
                    "text": "--2020-09-12 20:44:59--  https://s3.us.cloud-object-storage.appdomain.cloud/cf-courses-data/CognitiveClass/DP0701EN/version-2/Data-Collisions.csv\nResolving s3.us.cloud-object-storage.appdomain.cloud (s3.us.cloud-object-storage.appdomain.cloud)... 67.228.254.196\nConnecting to s3.us.cloud-object-storage.appdomain.cloud (s3.us.cloud-object-storage.appdomain.cloud)|67.228.254.196|:443... connected.\nHTTP request sent, awaiting response... 200 OK\nLength: 73917638 (70M) [text/csv]\nSaving to: \u2018ChurnData.csv\u2019\n\n100%[======================================>] 73,917,638  44.5MB/s   in 1.6s   \n\n2020-09-12 20:45:01 (44.5 MB/s) - \u2018ChurnData.csv\u2019 saved [73917638/73917638]\n\n"
                }
            ],
            "source": "!wget -O ChurnData.csv https://s3.us.cloud-object-storage.appdomain.cloud/cf-courses-data/CognitiveClass/DP0701EN/version-2/Data-Collisions.csv"
        },
        {
            "cell_type": "code",
            "execution_count": 39,
            "metadata": {},
            "outputs": [
                {
                    "name": "stderr",
                    "output_type": "stream",
                    "text": "/opt/conda/envs/Python36/lib/python3.6/site-packages/IPython/core/interactiveshell.py:3020: DtypeWarning: Columns (33) have mixed types. Specify dtype option on import or set low_memory=False.\n  interactivity=interactivity, compiler=compiler, result=result)\n"
                },
                {
                    "data": {
                        "text/html": "<div>\n<style scoped>\n    .dataframe tbody tr th:only-of-type {\n        vertical-align: middle;\n    }\n\n    .dataframe tbody tr th {\n        vertical-align: top;\n    }\n\n    .dataframe thead th {\n        text-align: right;\n    }\n</style>\n<table border=\"1\" class=\"dataframe\">\n  <thead>\n    <tr style=\"text-align: right;\">\n      <th></th>\n      <th>SEVERITYCODE</th>\n      <th>X</th>\n      <th>Y</th>\n      <th>OBJECTID</th>\n      <th>INCKEY</th>\n      <th>COLDETKEY</th>\n      <th>REPORTNO</th>\n      <th>STATUS</th>\n      <th>ADDRTYPE</th>\n      <th>INTKEY</th>\n      <th>...</th>\n      <th>ROADCOND</th>\n      <th>LIGHTCOND</th>\n      <th>PEDROWNOTGRNT</th>\n      <th>SDOTCOLNUM</th>\n      <th>SPEEDING</th>\n      <th>ST_COLCODE</th>\n      <th>ST_COLDESC</th>\n      <th>SEGLANEKEY</th>\n      <th>CROSSWALKKEY</th>\n      <th>HITPARKEDCAR</th>\n    </tr>\n  </thead>\n  <tbody>\n    <tr>\n      <th>0</th>\n      <td>2</td>\n      <td>-122.323148</td>\n      <td>47.703140</td>\n      <td>1</td>\n      <td>1307</td>\n      <td>1307</td>\n      <td>3502005</td>\n      <td>Matched</td>\n      <td>Intersection</td>\n      <td>37475.0</td>\n      <td>...</td>\n      <td>Wet</td>\n      <td>Daylight</td>\n      <td>NaN</td>\n      <td>NaN</td>\n      <td>NaN</td>\n      <td>10</td>\n      <td>Entering at angle</td>\n      <td>0</td>\n      <td>0</td>\n      <td>N</td>\n    </tr>\n    <tr>\n      <th>1</th>\n      <td>1</td>\n      <td>-122.347294</td>\n      <td>47.647172</td>\n      <td>2</td>\n      <td>52200</td>\n      <td>52200</td>\n      <td>2607959</td>\n      <td>Matched</td>\n      <td>Block</td>\n      <td>NaN</td>\n      <td>...</td>\n      <td>Wet</td>\n      <td>Dark - Street Lights On</td>\n      <td>NaN</td>\n      <td>6354039.0</td>\n      <td>NaN</td>\n      <td>11</td>\n      <td>From same direction - both going straight - bo...</td>\n      <td>0</td>\n      <td>0</td>\n      <td>N</td>\n    </tr>\n    <tr>\n      <th>2</th>\n      <td>1</td>\n      <td>-122.334540</td>\n      <td>47.607871</td>\n      <td>3</td>\n      <td>26700</td>\n      <td>26700</td>\n      <td>1482393</td>\n      <td>Matched</td>\n      <td>Block</td>\n      <td>NaN</td>\n      <td>...</td>\n      <td>Dry</td>\n      <td>Daylight</td>\n      <td>NaN</td>\n      <td>4323031.0</td>\n      <td>NaN</td>\n      <td>32</td>\n      <td>One parked--one moving</td>\n      <td>0</td>\n      <td>0</td>\n      <td>N</td>\n    </tr>\n    <tr>\n      <th>3</th>\n      <td>1</td>\n      <td>-122.334803</td>\n      <td>47.604803</td>\n      <td>4</td>\n      <td>1144</td>\n      <td>1144</td>\n      <td>3503937</td>\n      <td>Matched</td>\n      <td>Block</td>\n      <td>NaN</td>\n      <td>...</td>\n      <td>Dry</td>\n      <td>Daylight</td>\n      <td>NaN</td>\n      <td>NaN</td>\n      <td>NaN</td>\n      <td>23</td>\n      <td>From same direction - all others</td>\n      <td>0</td>\n      <td>0</td>\n      <td>N</td>\n    </tr>\n    <tr>\n      <th>4</th>\n      <td>2</td>\n      <td>-122.306426</td>\n      <td>47.545739</td>\n      <td>5</td>\n      <td>17700</td>\n      <td>17700</td>\n      <td>1807429</td>\n      <td>Matched</td>\n      <td>Intersection</td>\n      <td>34387.0</td>\n      <td>...</td>\n      <td>Wet</td>\n      <td>Daylight</td>\n      <td>NaN</td>\n      <td>4028032.0</td>\n      <td>NaN</td>\n      <td>10</td>\n      <td>Entering at angle</td>\n      <td>0</td>\n      <td>0</td>\n      <td>N</td>\n    </tr>\n  </tbody>\n</table>\n<p>5 rows \u00d7 38 columns</p>\n</div>",
                        "text/plain": "   SEVERITYCODE           X          Y  OBJECTID  INCKEY  COLDETKEY REPORTNO  \\\n0             2 -122.323148  47.703140         1    1307       1307  3502005   \n1             1 -122.347294  47.647172         2   52200      52200  2607959   \n2             1 -122.334540  47.607871         3   26700      26700  1482393   \n3             1 -122.334803  47.604803         4    1144       1144  3503937   \n4             2 -122.306426  47.545739         5   17700      17700  1807429   \n\n    STATUS      ADDRTYPE   INTKEY  ... ROADCOND                LIGHTCOND  \\\n0  Matched  Intersection  37475.0  ...      Wet                 Daylight   \n1  Matched         Block      NaN  ...      Wet  Dark - Street Lights On   \n2  Matched         Block      NaN  ...      Dry                 Daylight   \n3  Matched         Block      NaN  ...      Dry                 Daylight   \n4  Matched  Intersection  34387.0  ...      Wet                 Daylight   \n\n  PEDROWNOTGRNT  SDOTCOLNUM SPEEDING ST_COLCODE  \\\n0           NaN         NaN      NaN         10   \n1           NaN   6354039.0      NaN         11   \n2           NaN   4323031.0      NaN         32   \n3           NaN         NaN      NaN         23   \n4           NaN   4028032.0      NaN         10   \n\n                                          ST_COLDESC  SEGLANEKEY  \\\n0                                  Entering at angle           0   \n1  From same direction - both going straight - bo...           0   \n2                             One parked--one moving           0   \n3                   From same direction - all others           0   \n4                                  Entering at angle           0   \n\n   CROSSWALKKEY  HITPARKEDCAR  \n0             0             N  \n1             0             N  \n2             0             N  \n3             0             N  \n4             0             N  \n\n[5 rows x 38 columns]"
                    },
                    "execution_count": 39,
                    "metadata": {},
                    "output_type": "execute_result"
                }
            ],
            "source": "churn_df = pd.read_csv(\"ChurnData.csv\")\nchurn_df.head()"
        },
        {
            "cell_type": "code",
            "execution_count": null,
            "metadata": {},
            "outputs": [],
            "source": "churn_df = churn_df[['WEATHER', 'SPEEDING', 'LIGHTCOND', 'ROADCOND', 'JUNCTIONTYPE', 'PERSONCOUNT', 'VEHCOUNT']]\nchurn_df['churn'] = churn_df['churn'].astype('integer')\nchurn_df.head()\n"
        },
        {
            "cell_type": "code",
            "execution_count": 40,
            "metadata": {},
            "outputs": [
                {
                    "data": {
                        "text/plain": "(194673, 38)"
                    },
                    "execution_count": 40,
                    "metadata": {},
                    "output_type": "execute_result"
                }
            ],
            "source": "churn_df.shape"
        },
        {
            "cell_type": "markdown",
            "metadata": {},
            "source": "Lets define X, and y for our dataset:"
        },
        {
            "cell_type": "code",
            "execution_count": 41,
            "metadata": {},
            "outputs": [
                {
                    "data": {
                        "text/plain": "array([['Overcast', nan, 'Daylight', 'Wet',\n        'At Intersection (intersection related)', 2, 2],\n       ['Raining', nan, 'Dark - Street Lights On', 'Wet',\n        'Mid-Block (not related to intersection)', 2, 2],\n       ['Overcast', nan, 'Daylight', 'Dry',\n        'Mid-Block (not related to intersection)', 4, 3],\n       ['Clear', nan, 'Daylight', 'Dry',\n        'Mid-Block (not related to intersection)', 3, 3],\n       ['Raining', nan, 'Daylight', 'Wet',\n        'At Intersection (intersection related)', 2, 2]], dtype=object)"
                    },
                    "execution_count": 41,
                    "metadata": {},
                    "output_type": "execute_result"
                }
            ],
            "source": "X = np.asarray(churn_df[['WEATHER', 'SPEEDING', 'LIGHTCOND', 'ROADCOND', 'JUNCTIONTYPE', 'PERSONCOUNT', 'VEHCOUNT']])\nX[0:5]"
        },
        {
            "cell_type": "markdown",
            "metadata": {},
            "source": "Train/Test dataset Okay, we split our dataset into train and test set:"
        },
        {
            "cell_type": "code",
            "execution_count": 42,
            "metadata": {},
            "outputs": [
                {
                    "ename": "NameError",
                    "evalue": "name 'y' is not defined",
                    "output_type": "error",
                    "traceback": [
                        "\u001b[0;31m---------------------------------------------------------------------------\u001b[0m",
                        "\u001b[0;31mNameError\u001b[0m                                 Traceback (most recent call last)",
                        "\u001b[0;32m<ipython-input-42-5e1c5c25c945>\u001b[0m in \u001b[0;36m<module>\u001b[0;34m\u001b[0m\n\u001b[1;32m      1\u001b[0m \u001b[0;32mfrom\u001b[0m \u001b[0msklearn\u001b[0m\u001b[0;34m.\u001b[0m\u001b[0mmodel_selection\u001b[0m \u001b[0;32mimport\u001b[0m \u001b[0mtrain_test_split\u001b[0m\u001b[0;34m\u001b[0m\u001b[0;34m\u001b[0m\u001b[0m\n\u001b[0;32m----> 2\u001b[0;31m \u001b[0mX_train\u001b[0m\u001b[0;34m,\u001b[0m \u001b[0mX_test\u001b[0m\u001b[0;34m,\u001b[0m \u001b[0my_train\u001b[0m\u001b[0;34m,\u001b[0m \u001b[0my_test\u001b[0m \u001b[0;34m=\u001b[0m \u001b[0mtrain_test_split\u001b[0m\u001b[0;34m(\u001b[0m \u001b[0mX\u001b[0m\u001b[0;34m,\u001b[0m \u001b[0my\u001b[0m\u001b[0;34m,\u001b[0m \u001b[0mtest_size\u001b[0m\u001b[0;34m=\u001b[0m\u001b[0;36m0.2\u001b[0m\u001b[0;34m,\u001b[0m \u001b[0mrandom_state\u001b[0m\u001b[0;34m=\u001b[0m\u001b[0;36m4\u001b[0m\u001b[0;34m)\u001b[0m\u001b[0;34m\u001b[0m\u001b[0;34m\u001b[0m\u001b[0m\n\u001b[0m\u001b[1;32m      3\u001b[0m \u001b[0mprint\u001b[0m \u001b[0;34m(\u001b[0m\u001b[0;34m'Train set:'\u001b[0m\u001b[0;34m,\u001b[0m \u001b[0mX_train\u001b[0m\u001b[0;34m.\u001b[0m\u001b[0mshape\u001b[0m\u001b[0;34m,\u001b[0m  \u001b[0my_train\u001b[0m\u001b[0;34m.\u001b[0m\u001b[0mshape\u001b[0m\u001b[0;34m)\u001b[0m\u001b[0;34m\u001b[0m\u001b[0;34m\u001b[0m\u001b[0m\n\u001b[1;32m      4\u001b[0m \u001b[0mprint\u001b[0m \u001b[0;34m(\u001b[0m\u001b[0;34m'Test set:'\u001b[0m\u001b[0;34m,\u001b[0m \u001b[0mX_test\u001b[0m\u001b[0;34m.\u001b[0m\u001b[0mshape\u001b[0m\u001b[0;34m,\u001b[0m  \u001b[0my_test\u001b[0m\u001b[0;34m.\u001b[0m\u001b[0mshape\u001b[0m\u001b[0;34m)\u001b[0m\u001b[0;34m\u001b[0m\u001b[0;34m\u001b[0m\u001b[0m\n",
                        "\u001b[0;31mNameError\u001b[0m: name 'y' is not defined"
                    ]
                }
            ],
            "source": "from sklearn.model_selection import train_test_split\nX_train, X_test, y_train, y_test = train_test_split( X, y, test_size=0.2, random_state=4)\nprint ('Train set:', X_train.shape,  y_train.shape)\nprint ('Test set:', X_test.shape,  y_test.shape)"
        },
        {
            "cell_type": "markdown",
            "metadata": {},
            "source": "Modeling (Logistic Regression with Scikit-learn)\n\nLets build our model using LogisticRegression from Scikit-learn package. This function implements logistic regression and can use different numerical optimizers to find parameters, including \u2018newton-cg\u2019, \u2018lbfgs\u2019, \u2018liblinear\u2019, \u2018sag\u2019, \u2018saga\u2019 solvers. You can find extensive information about the pros and cons of these optimizers if you search it in internet.\n\nThe version of Logistic Regression in Scikit-learn, support regularization. Regularization is a technique used to solve the overfitting problem in machine learning models. C parameter indicates inverse of regularization strength which must be a positive float. Smaller values specify stronger regularization. Now lets fit our model with train set:"
        },
        {
            "cell_type": "code",
            "execution_count": 43,
            "metadata": {},
            "outputs": [
                {
                    "ename": "NameError",
                    "evalue": "name 'X_train' is not defined",
                    "output_type": "error",
                    "traceback": [
                        "\u001b[0;31m---------------------------------------------------------------------------\u001b[0m",
                        "\u001b[0;31mNameError\u001b[0m                                 Traceback (most recent call last)",
                        "\u001b[0;32m<ipython-input-43-d5bcb348ab6e>\u001b[0m in \u001b[0;36m<module>\u001b[0;34m\u001b[0m\n\u001b[1;32m      1\u001b[0m \u001b[0;32mfrom\u001b[0m \u001b[0msklearn\u001b[0m\u001b[0;34m.\u001b[0m\u001b[0mlinear_model\u001b[0m \u001b[0;32mimport\u001b[0m \u001b[0mLogisticRegression\u001b[0m\u001b[0;34m\u001b[0m\u001b[0;34m\u001b[0m\u001b[0m\n\u001b[1;32m      2\u001b[0m \u001b[0;32mfrom\u001b[0m \u001b[0msklearn\u001b[0m\u001b[0;34m.\u001b[0m\u001b[0mmetrics\u001b[0m \u001b[0;32mimport\u001b[0m \u001b[0mconfusion_matrix\u001b[0m\u001b[0;34m\u001b[0m\u001b[0;34m\u001b[0m\u001b[0m\n\u001b[0;32m----> 3\u001b[0;31m \u001b[0mLR\u001b[0m \u001b[0;34m=\u001b[0m \u001b[0mLogisticRegression\u001b[0m\u001b[0;34m(\u001b[0m\u001b[0mC\u001b[0m\u001b[0;34m=\u001b[0m\u001b[0;36m0.01\u001b[0m\u001b[0;34m,\u001b[0m \u001b[0msolver\u001b[0m\u001b[0;34m=\u001b[0m\u001b[0;34m'liblinear'\u001b[0m\u001b[0;34m)\u001b[0m\u001b[0;34m.\u001b[0m\u001b[0mfit\u001b[0m\u001b[0;34m(\u001b[0m\u001b[0mX_train\u001b[0m\u001b[0;34m,\u001b[0m\u001b[0my_train\u001b[0m\u001b[0;34m)\u001b[0m\u001b[0;34m\u001b[0m\u001b[0;34m\u001b[0m\u001b[0m\n\u001b[0m\u001b[1;32m      4\u001b[0m \u001b[0mLR\u001b[0m\u001b[0;34m\u001b[0m\u001b[0;34m\u001b[0m\u001b[0m\n",
                        "\u001b[0;31mNameError\u001b[0m: name 'X_train' is not defined"
                    ]
                }
            ],
            "source": "from sklearn.linear_model import LogisticRegression\nfrom sklearn.metrics import confusion_matrix\nLR = LogisticRegression(C=0.01, solver='liblinear').fit(X_train,y_train)\nLR"
        }
    ],
    "metadata": {
        "kernelspec": {
            "display_name": "Python 3.6",
            "language": "python",
            "name": "python3"
        },
        "language_info": {
            "codemirror_mode": {
                "name": "ipython",
                "version": 3
            },
            "file_extension": ".py",
            "mimetype": "text/x-python",
            "name": "python",
            "nbconvert_exporter": "python",
            "pygments_lexer": "ipython3",
            "version": "3.6.9"
        }
    },
    "nbformat": 4,
    "nbformat_minor": 1
}